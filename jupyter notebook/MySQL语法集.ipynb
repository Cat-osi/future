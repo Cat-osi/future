{
 "cells": [
  {
   "cell_type": "markdown",
   "metadata": {
    "toc": true
   },
   "source": [
    "<h1>Table of Contents<span class=\"tocSkip\"></span></h1>\n",
    "<div class=\"toc\"><ul class=\"toc-item\"></ul></div>"
   ]
  },
  {
   "cell_type": "code",
   "execution_count": null,
   "metadata": {
    "code_folding": []
   },
   "outputs": [],
   "source": [
    "# 显示数据库\n",
    "show databases;\n",
    "\n",
    "#判断是否存在数据库image_su,有的话先删除\n",
    "## drop database if exists image_su;\n",
    "\n",
    "#创建数据库\n",
    "create database image_su;\n",
    "\n",
    "#使用数据库\n",
    "use image_su;\n",
    "\n",
    "#显示数据库里的表\n",
    "show tables;\n",
    "\n",
    "#判断表是否存在，存在先删除\n",
    "drop table if exists image_su;\n",
    "\n"
   ]
  },
  {
   "cell_type": "code",
   "execution_count": null,
   "metadata": {},
   "outputs": [],
   "source": [
    "#创建表\n",
    "create table image_suuz(\n",
    "id int auto_increment primary key,\n",
    "sentence varchar(1000),\n",
    "image_url varchar(300)\n",
    ")default charset=utf8;\n",
    "\n",
    "#删除表\n",
    "drop table image_suu;\n",
    "\n",
    "#删除数据\n",
    "delete from image_suu where id=1;\n",
    "\n",
    "#查看表的数据结构\n",
    "describe image_suu;\n",
    "\n",
    "#插入数据id,sentence,image_url\n",
    "#第一种\n",
    "insert into image_suu values('好出门啊','lllal.com');\n",
    "#第二种\n",
    "insert into image_suu(sentence,image_url)values('今天学习','github.com')\n",
    "\n",
    "#查询表数据\n",
    "select * from image_suu;\n",
    "select id,sentence from image_suu;\n",
    "\n",
    "#修改其中一条数据\n",
    "updata image_suu set sentence='并不是不聪明' where id=2;\n",
    "\n",
    "\n",
    "#逻辑运算花式选取数据     \n",
    "select * from image_suu where id<3 and id>1;\n",
    "select * from image_suu where id<3 or id>0;\n",
    "select * from image_suu where id between 0 and 2; \n",
    "select * from image_suu where id in (1,2,5);\n",
    "\n",
    "#查询第i条以后到第j条的数据(不包括第i条)\n",
    "select * from image_suu limit 2,5; #显示3-5条数据\n"
   ]
  },
  {
   "cell_type": "code",
   "execution_count": null,
   "metadata": {},
   "outputs": [],
   "source": [
    "#字段删除\n",
    "alter table image_suu drop column sentence;\n",
    "#字段增加\n",
    "alter table id_name add age int,add address varchar(11);"
   ]
  },
  {
   "cell_type": "code",
   "execution_count": null,
   "metadata": {},
   "outputs": [],
   "source": [
    "#asc排序 desc降序\n",
    "select * from image_suu order by id asc;"
   ]
  },
  {
   "cell_type": "code",
   "execution_count": null,
   "metadata": {},
   "outputs": [],
   "source": [
    "#修改表字段的数据类型\n",
    "alter table image_su modify column sentence varchar(6000)"
   ]
  }
 ],
 "metadata": {
  "kernelspec": {
   "display_name": "Python 3",
   "language": "python",
   "name": "python3"
  },
  "language_info": {
   "codemirror_mode": {
    "name": "ipython",
    "version": 3
   },
   "file_extension": ".py",
   "mimetype": "text/x-python",
   "name": "python",
   "nbconvert_exporter": "python",
   "pygments_lexer": "ipython3",
   "version": "3.6.6"
  },
  "toc": {
   "base_numbering": 1,
   "nav_menu": {},
   "number_sections": true,
   "sideBar": true,
   "skip_h1_title": true,
   "title_cell": "Table of Contents",
   "title_sidebar": "Contents",
   "toc_cell": true,
   "toc_position": {
    "height": "calc(100% - 180px)",
    "left": "10px",
    "top": "150px",
    "width": "349.091px"
   },
   "toc_section_display": true,
   "toc_window_display": false
  }
 },
 "nbformat": 4,
 "nbformat_minor": 2
}
