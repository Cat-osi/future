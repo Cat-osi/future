{
 "cells": [
  {
   "cell_type": "markdown",
   "metadata": {},
   "source": [
    "### 查询操作\n",
    "#### 链接数据库的时候加use_unicode=True,charset='utf8'才可以显示中文"
   ]
  },
  {
   "cell_type": "code",
   "execution_count": 19,
   "metadata": {},
   "outputs": [
    {
     "name": "stdout",
     "output_type": "stream",
     "text": [
      "((1, '???', 'fool.com'), (2, '????mysql', 'github.com'), (4, '???', 'path.com'))\n"
     ]
    }
   ],
   "source": [
    "import  pymysql\n",
    "#链接数据库\n",
    "db=pymysql.connect(host='localhost',user='root',password='hybaba',db='image_su'，use_unicode=True,charset='utf8')\n",
    "#使用cursor()方法获取操作游标\n",
    "cur=db.cursor()\n",
    "#编写查询语句\n",
    "sql='select * from image_suu'\n",
    "try:\n",
    "    cur.execute(sql)\n",
    "    results=cur.fetchall()  #当前游标下所有记录\n",
    "    print(results)\n",
    "except Exception as e:\n",
    "    raise e\n",
    "finally:\n",
    "    db.close()"
   ]
  },
  {
   "cell_type": "markdown",
   "metadata": {},
   "source": [
    "### 插入操作"
   ]
  },
  {
   "cell_type": "markdown",
   "metadata": {},
   "source": [
    "###### 这里会遇到mysql不支持中文，创建表加default charset=utf8; 数据库里敲\n",
    "###### alter database image_su character set utf8;"
   ]
  },
  {
   "cell_type": "code",
   "execution_count": 1,
   "metadata": {},
   "outputs": [],
   "source": [
    "import  pymysql\n",
    "#链接数据库\n",
    "db=pymysql.connect(host='localhost',user='root',password='hybaba',db='image_su',use_unicode=True,charset='utf8')\n",
    "#使用cursor()方法获取操作游标\n",
    "cur=db.cursor()\n",
    "#变量插入语句编写\n",
    "title='一般般'\n",
    "content='path.com'\n",
    "cur.execute(\"INSERT INTO image_suu (sentence,image_url) VALUES (%s,%s)\", (title,content))\n",
    "db.commit()\n",
    "db.close()"
   ]
  },
  {
   "cell_type": "code",
   "execution_count": null,
   "metadata": {},
   "outputs": [],
   "source": []
  }
 ],
 "metadata": {
  "kernelspec": {
   "display_name": "Python 3",
   "language": "python",
   "name": "python3"
  },
  "language_info": {
   "codemirror_mode": {
    "name": "ipython",
    "version": 3
   },
   "file_extension": ".py",
   "mimetype": "text/x-python",
   "name": "python",
   "nbconvert_exporter": "python",
   "pygments_lexer": "ipython3",
   "version": "3.6.6"
  },
  "toc": {
   "base_numbering": 1,
   "nav_menu": {},
   "number_sections": true,
   "sideBar": true,
   "skip_h1_title": false,
   "title_cell": "Table of Contents",
   "title_sidebar": "Contents",
   "toc_cell": false,
   "toc_position": {},
   "toc_section_display": true,
   "toc_window_display": false
  }
 },
 "nbformat": 4,
 "nbformat_minor": 2
}
