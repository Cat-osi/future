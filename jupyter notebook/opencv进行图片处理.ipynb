{
 "cells": [
  {
   "cell_type": "markdown",
   "metadata": {},
   "source": [
    "### 此文件使用OpenCV来做基本图像预处理操作，基本处理内容包括，图像缩放，平移，旋转，透视变化，图像色彩模式转化，边缘检测，二值化处理，平滑处理，形态学处理。\n",
    "\n",
    "#### 数据源文件sudoku.png、j.png位于“附件-chapter3”中，完整代码如下:"
   ]
  },
  {
   "cell_type": "markdown",
   "metadata": {},
   "source": [
    "### opencv读取文件时 文件和路径名不能带中文"
   ]
  },
  {
   "cell_type": "code",
   "execution_count": 2,
   "metadata": {},
   "outputs": [],
   "source": [
    "import cv2                                  #导入图像处理库\n",
    "import numpy as np                          \n",
    "from matplotlib import pyplot as plt       #导入展示库"
   ]
  },
  {
   "cell_type": "markdown",
   "metadata": {},
   "source": [
    "# 自定义图像展示函数"
   ]
  },
  {
   "cell_type": "code",
   "execution_count": 4,
   "metadata": {},
   "outputs": [],
   "source": [
    "def img_show(img_name,img):\n",
    "    cv2.imshow(img_name,img)    #cv2.imshow()显示图像。窗口会自动调整为图像大小。第一个参数是窗口名字，其次才是我们的图像。\n",
    "    cv2.waitKey(0)\n",
    "    cv2.destroyAllWindows()     #cv2.destroyAllWindows()可以轻易删除任何我们建立的窗口。如果你想删除特定的窗口可以使用cv2.destroyWindow(),，在括号内输入你想要删除的窗口名"
   ]
  },
  {
   "cell_type": "markdown",
   "metadata": {},
   "source": [
    "# img=cv2.imread()加载一个图片对象再调用函数显示原始图像\n",
    "##### img.shape 会返回一个tuple元组，第一个元素表示矩阵行数，第二个元素是矩阵列数，第三个元素是3表示像素由光的三原色组成"
   ]
  },
  {
   "cell_type": "code",
   "execution_count": null,
   "metadata": {},
   "outputs": [],
   "source": [
    "img_file='C:\\\\Users\\\\ASUS\\\\Desktop\\\\python\\\\chapter3\\\\sudoku.png'    #sudoku.png图片地址\n",
    "img=cv2.imread(img_file)                                             #以彩色模式读取图像文件\n",
    "rows,cols,ch=img.shape                                               #获取图像形状\n",
    "img_show('raw img',img)"
   ]
  },
  {
   "cell_type": "markdown",
   "metadata": {},
   "source": [
    "# 图像缩放  cv2.resize()"
   ]
  },
  {
   "cell_type": "code",
   "execution_count": null,
   "metadata": {},
   "outputs": [],
   "source": [
    "#img图片对象，fx:沿水平轴的比例因子，fy:沿垂直轴的比例因子，interpolation:插值方式\n",
    "img_scale=cv2.resize(img,None,fx=0.6,fy=0.6,interpolation=cv2.INTER_CUBIC)  \n",
    "#展示缩放后的图像\n",
    "img_show('scale img',img_scale)"
   ]
  },
  {
   "cell_type": "markdown",
   "metadata": {},
   "source": [
    "# 图像平移 cv2.warpAffine()"
   ]
  },
  {
   "cell_type": "code",
   "execution_count": null,
   "metadata": {},
   "outputs": [],
   "source": [
    "#定义平移中心\n",
    "M=np.float32([[1,0,100],[0,1,50]])  \n",
    "#平移图像\n",
    "img_transform=cv2.warpAffine(img,M,(cols,rows))\n",
    "#展示平移后的图像\n",
    "img_show('rotation img',img_rotation)"
   ]
  },
  {
   "cell_type": "markdown",
   "metadata": {},
   "source": [
    "# 图像旋转 cv2.warpAffine()"
   ]
  },
  {
   "cell_type": "code",
   "execution_count": null,
   "metadata": {},
   "outputs": [],
   "source": [
    "#定义旋转中心、第一个参数为旋转中心，第二个参数为旋转角度，第三个为旋转后的缩放因子\n",
    "M=cv2.getRotationMatrix2D((cols/2,rows/2),45,0.6)\n",
    "# 旋转图像\n",
    "img_rotation=cv2.warpAffine(img,M,(cols,rows))\n",
    "#展示旋转1后的图像\n",
    "img_show(\"transform img\",img_rotation)"
   ]
  },
  {
   "cell_type": "markdown",
   "metadata": {},
   "source": [
    "# 透视变换  cv2.warpPerspective()"
   ]
  },
  {
   "cell_type": "code",
   "execution_count": null,
   "metadata": {},
   "outputs": [],
   "source": [
    "#定义变换前的四个校准点\n",
    "pts1=np.float32([[76,89],[490,74],[37,515],[520,522]])\n",
    "#定义变换后的四个角点\n",
    "pts2=np.float32([[0,0],[300,0],[0,300],[300,300]])\n",
    "#定义变换中心点\n",
    "M=cv2.gePerspectiveTrasform(pts1,pts2)\n",
    "#透视变换\n",
    "img_perspective=cv2.warpPerspective(img,M,(300,300))\n",
    "#展示图像\n",
    "img_show('perspective img',img_perspective)"
   ]
  },
  {
   "cell_type": "markdown",
   "metadata": {},
   "source": [
    "# 转为灰度图像 cv2.cvtColor()"
   ]
  },
  {
   "cell_type": "code",
   "execution_count": null,
   "metadata": {},
   "outputs": [],
   "source": [
    "#图像转灰度\n",
    "img_gray=cv2.cvtColor(img,cv2.COLOR_BGR2GRAY)\n",
    "#展示灰度图像\n",
    "img_show(\"gray img\",img_gray)"
   ]
  },
  {
   "cell_type": "markdown",
   "metadata": {},
   "source": [
    "# 边缘检查 cv2.Canny()\n",
    "##### 边缘检测可以大幅减少数据量，剔除不相关的信息，保留图像的结构属性"
   ]
  },
  {
   "cell_type": "code",
   "execution_count": null,
   "metadata": {},
   "outputs": [],
   "source": [
    "#边缘检测 cv2.Canny()第一个参数是图片对象，第二个是阈值1，第三个是阈值2\n",
    "img_edges=cv2.Canny(img,100,200)\n",
    "#展示图像\n",
    "img_show('edge img',img_edges)"
   ]
  },
  {
   "cell_type": "markdown",
   "metadata": {},
   "source": [
    "# 图像二值化  需要使用灰度图像对象\n",
    "##### cv2.threshod()                   \n",
    "##### cv2.adaptiveThreshold()     自动适应阈值"
   ]
  },
  {
   "cell_type": "code",
   "execution_count": null,
   "metadata": {},
   "outputs": [],
   "source": [
    "#cv2,threshold() th1是输出图\n",
    "#第一个参数是灰度图像\n",
    "#第二个参数是阈值，\n",
    "#第三个参数是当图像值超过了阈值(或小于阈值,由第四个参数决定),所赋的值\n",
    "#第四个参数是二值化操作类型，包含5种，cv2.THRESH_BINARY、cv2.THRESH_BINARY_INV、cv2.THRESH_TRUNC、cv2.THRESH_TOZERO、cv2.THRESH_TOZERO_INV\n",
    "ret,th1=cv2.threshold(img_gray,127,255,cv2.THRESH_BINARY)  \n",
    "\n",
    "#cv2.adaptiveThreshold()\n",
    "#th2是输出图\n",
    "#第一个参数是灰度图像\n",
    "#第二个参数是当像素超过阈值(或小于阈值，根据第四个参数决定)，所赋予的值\n",
    "#第三个参数是阈值的计算方法，有均值适应和高斯适应两种\n",
    "#第四个参数同cv2.threshold()一样\n",
    "#第五个参数是图片分块的大小\n",
    "#第六个参数是阈值计算方法中的常数项\n",
    "th2=cv2.adaptiveThreshold(img_gray,255,cv2.ADAPTIVE_THRESH_MEAN_C,cv2.THRESH_BINARY,11,2) #自适应均值阈值\n",
    "th3=cv2.adaptiveThreshold(img_gray,255,cv2.ADAPTIVE_THRESH_GAUSSIAN_C,cv2.THRESH_BINARY,11,2) #自适应高斯阈值\n",
    "titles=['Gray Image','Globle Thresholding(v=127)','Adaptive Mean Thresholding','Adaptive Gaussian Thresholding'] #定义图像定义\n",
    "images=[img_gray,th1,th2,th3]\n",
    "for i in xrange(4):\n",
    "    plt.subplot(2,2,i+1),plt.imshow(images[i],'gray')  #以灰度图像展示每个图像\n",
    "    plt.title(titles[i])\n",
    "    plt.xticks([]),plt.yticks([])\n",
    "plt.show()"
   ]
  },
  {
   "cell_type": "code",
   "execution_count": null,
   "metadata": {},
   "outputs": [],
   "source": [
    "#图像平滑"
   ]
  }
 ],
 "metadata": {
  "kernelspec": {
   "display_name": "Python 3",
   "language": "python",
   "name": "python3"
  },
  "language_info": {
   "codemirror_mode": {
    "name": "ipython",
    "version": 3
   },
   "file_extension": ".py",
   "mimetype": "text/x-python",
   "name": "python",
   "nbconvert_exporter": "python",
   "pygments_lexer": "ipython3",
   "version": "3.6.6"
  }
 },
 "nbformat": 4,
 "nbformat_minor": 2
}
