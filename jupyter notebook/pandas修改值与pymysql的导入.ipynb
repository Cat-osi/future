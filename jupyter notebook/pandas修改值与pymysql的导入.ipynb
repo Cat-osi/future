{
 "cells": [
  {
   "cell_type": "code",
   "execution_count": 1,
   "metadata": {},
   "outputs": [],
   "source": [
    "import pandas as pd\n",
    "data1=pd.read_csv(\"C:\\\\Users\\\\ASUS\\\\Desktop\\\\python\\\\chapter5\\\\sales.csv\")\n",
    "#loc函数对列进行值修改\n",
    "data1.loc[data1['AMOUNTINFO']>5000,'AMOUNTINFO']=0\n",
    "data1.loc[data1['AMOUNTINFO'].isnull(),'AMOUNTINFO']=1"
   ]
  },
  {
   "cell_type": "code",
   "execution_count": null,
   "metadata": {},
   "outputs": [],
   "source": [
    "\n",
    "import pandas as pd\n",
    "import pymysql\n",
    "db= pymysql.connect(host=\"localhost\",user=\"root\",password=\"hybaba\",db=\"hypassword\")\n",
    "sql=\"select * from hypasswordt\"\n",
    "data=pd.read_sql(sql,db)"
   ]
  }
 ],
 "metadata": {
  "kernelspec": {
   "display_name": "Python 3",
   "language": "python",
   "name": "python3"
  },
  "language_info": {
   "codemirror_mode": {
    "name": "ipython",
    "version": 3
   },
   "file_extension": ".py",
   "mimetype": "text/x-python",
   "name": "python",
   "nbconvert_exporter": "python",
   "pygments_lexer": "ipython3",
   "version": "3.6.6"
  }
 },
 "nbformat": 4,
 "nbformat_minor": 2
}
