{
 "cells": [
  {
   "cell_type": "markdown",
   "metadata": {},
   "source": [
    "# scrapy图片下载\n",
    "##### 目标网址 http://lab.scrapyd.cn/archives/55.html"
   ]
  },
  {
   "cell_type": "markdown",
   "metadata": {},
   "source": [
    "#### 一、创建一个scrapy项目文件夹"
   ]
  },
  {
   "cell_type": "code",
   "execution_count": null,
   "metadata": {},
   "outputs": [],
   "source": [
    "scrapy startproject ImageSpider"
   ]
  },
  {
   "cell_type": "markdown",
   "metadata": {},
   "source": [
    "#### 二、定义itm\n",
    "###### 在items.py里面设置存放src的容器"
   ]
  },
  {
   "cell_type": "code",
   "execution_count": null,
   "metadata": {},
   "outputs": [],
   "source": [
    "import scrapy\n",
    "class ImageSpider(scrapy.Item):\n",
    "    imgurl=scrapy.Field()"
   ]
  },
  {
   "cell_type": "markdown",
   "metadata": {},
   "source": [
    "### 三、创建spider文件\n",
    "###### cmd进入项目文件夹然后scrapy genspider -t basic ImgSpider lab.scrapyd.cn"
   ]
  },
  {
   "cell_type": "code",
   "execution_count": null,
   "metadata": {},
   "outputs": [],
   "source": [
    "import scrapy\n",
    "from ImageSpider.items import ImagespiderItem\n",
    "\n",
    "class ImgspiderSpider(scrapy.Spider):\n",
    "    name='ImgSpider'\n",
    "    allowed_domains=['lab.scrapyd.cn']\n",
    "    star_urls=['http://lab.scrapy.cn/archives/55,html']\n",
    "    \n",
    "    def parse(self,response):\n",
    "        item=ImagespiderItem()\n",
    "        imgurls=response.css(\".post img::attr(src)\").extract()\n",
    "        item['imgurl']=imgurls\n",
    "        yield item\n",
    "        pass"
   ]
  },
  {
   "cell_type": "markdown",
   "metadata": {},
   "source": [
    "### 四、图片下载好了到pipeline加工\n",
    "###### 打开pipeline.py进行中间件编写，这里的画主要继承了scrapy的：ImagesPipeline这个类，我们需要在里面实现：def get_media_requests(self,item,info)这个方法，主要是把蜘蛛yield过来的图片链接执行下载。"
   ]
  },
  {
   "cell_type": "code",
   "execution_count": null,
   "metadata": {},
   "outputs": [],
   "source": [
    "class ImagespiderPipelines(ImagePipeline):\n",
    "    def get_media_requests(self,item,info):\n",
    "        for image_url in item['imgurl']:\n",
    "            yield Request(image_url)\n",
    "            "
   ]
  },
  {
   "cell_type": "markdown",
   "metadata": {},
   "source": [
    "### 五、settings设置图片下载\n",
    "###### 下面需要一个下载中间件，还有一个问题，图片存放在哪里呢？scrapy的settings.py提供平一个常量:IMAGES_STORE。"
   ]
  },
  {
   "cell_type": "code",
   "execution_count": null,
   "metadata": {},
   "outputs": [],
   "source": [
    "#图片储存位置\n",
    "IMAGES_STORE='D:\\ImageSpider'\n",
    "#启动图片下载中间件\n",
    "ITEM_PIPELINES={\n",
    "    'ImageSpider.pipelines.ImagespiderPipeline':300\n",
    "}"
   ]
  }
 ],
 "metadata": {
  "kernelspec": {
   "display_name": "Python 3",
   "language": "python",
   "name": "python3"
  },
  "language_info": {
   "codemirror_mode": {
    "name": "ipython",
    "version": 3
   },
   "file_extension": ".py",
   "mimetype": "text/x-python",
   "name": "python",
   "nbconvert_exporter": "python",
   "pygments_lexer": "ipython3",
   "version": "3.6.6"
  }
 },
 "nbformat": 4,
 "nbformat_minor": 2
}
